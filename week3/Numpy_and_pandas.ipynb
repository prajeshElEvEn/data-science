{
  "nbformat": 4,
  "nbformat_minor": 0,
  "metadata": {
    "colab": {
      "provenance": []
    },
    "kernelspec": {
      "name": "python3",
      "display_name": "Python 3"
    },
    "language_info": {
      "name": "python"
    }
  },
  "cells": [
    {
      "cell_type": "markdown",
      "source": [
        "`What is Numpy?`\n",
        "\n",
        "\n",
        "NumPy stands for numerical python and it's an open source numerical library used for working with mathematical functions with multidimensional array and matrix data structures.\n",
        "\n",
        "It's a very common library used in data science and machine learning.\n",
        "\n",
        "\n",
        "`Why do we use Numpy?`\n",
        "\n",
        "A normal python list is actually a group of pointers to separate python objects. for example, pointing to the individual python number objects inside of the list.\n",
        "\n",
        "A numpy array is designed to be an array of uniform values without using extra memory space for type pointers.\n",
        "\n",
        "This makes it much more efficient and actually use a lot less memory than a normal python list.\n",
        "\n",
        "NumPy can also read in information faster than normal python and has lots of convenient broadcasting operations that can be performed across array dimensions.\n",
        "\n",
        "`Operations`"
      ],
      "metadata": {
        "id": "raccVBf1PyzR"
      }
    },
    {
      "cell_type": "markdown",
      "source": [
        "**Numpy arrays and matrices**"
      ],
      "metadata": {
        "id": "ix2pDCcaR_9p"
      }
    },
    {
      "cell_type": "code",
      "source": [
        "import numpy as np"
      ],
      "metadata": {
        "id": "5TUqh1WtPzE0"
      },
      "execution_count": null,
      "outputs": []
    },
    {
      "cell_type": "code",
      "source": [
        "mylist = [1,2,3]\n",
        "np.array(mylist)\n",
        "\n",
        "nested_lst = [[1,2],[6,3], [3,4]]\n",
        "np.array(nested_lst) # 2D matrix with 3 rows and 2 columns\n",
        "# we can see the dimension by the number of the brackets\n",
        "\n",
        "#built in ways to generate arrays\n",
        "np.arange(0,10) # 0 upto and not including 10\n",
        "np.arrange(0,10,2) #optional step size #quick way to get even numbers\n",
        "\n",
        "# Often in DS/ML we want to quickly create arrays of just 0s\n",
        "np.zeros(3) np.zeros((4,4))\n",
        "np.ones(3) np.ones((3,10))\n",
        "\n",
        "np.linspace(0,10,3)\n",
        "np.linspace(0,10,21) #evenly spaced numbers\n",
        "np.eye(5) #1 along the diagnol #by definition identity matrix is always square\n",
        "\n",
        "#random functionalitites\n",
        "#different bunch of random function calls\n",
        "#many types of random distribution we can call from\n",
        "np.random.\n",
        "# 2 random numbers within a uniform distribution between 0 and 1\n",
        "np.random.rand(2)\n",
        "np.random.rand(3,4) # for matrix\n",
        "# from standard normal distribution (centered/mean 0 variance 1)\n",
        "np.random.randn(5,5)\n",
        "# simulating people's ages\n",
        "np.random.randint(1,100)\n",
        "np.random.randint(1,100,10)\n",
        "np.random.randint(1,100,(2,3))\n",
        "#arbitrary number choice #important for reproducability sake # run in same cell\n",
        "np.random.seed(101)\n",
        "np.random.rand(4)\n",
        "\n",
        "arr = np.arange(25)\n",
        "arr.shape # just one dimension\n",
        "arr.reshape(5,5) # not possible for dimensions that deosn't make sense\n",
        "ranarr = np.random.randint(0,50,10)\n",
        "ranarr.max() ranarr.argmax() #index location of my max value\n",
        "ranarr.min() ranarr.argmin()\n",
        "ranarr.dtype # grab the data type in the array"
      ],
      "metadata": {
        "id": "R1N17nXsSGws"
      },
      "execution_count": null,
      "outputs": []
    },
    {
      "cell_type": "markdown",
      "source": [
        "**Indexing and Slicing**"
      ],
      "metadata": {
        "id": "4JXKT1Hau4qJ"
      }
    },
    {
      "cell_type": "code",
      "source": [
        "arr = np.arange(0,11)\n",
        "arr\n",
        "arr[8]\n",
        "arr[1:5] #upto and not including 5\n",
        "arr[:5] #start at the begining and go to 5\n",
        "arr[5:] #all the way to the end\n",
        "\n",
        "# broadcasting ability\n",
        "# values from 0 to 5 have this broadcasting reassignment\n",
        "arr\n",
        "arr[:5] = 100\n",
        "arr\n",
        "arr = np.arange(0,11)\n",
        "slice_of_array = arr[0:5]\n",
        "slice_of_array\n",
        "arr\n",
        "slice_of_array[:] = 99 #from begning all the way to the end\n",
        "slice_of_array\n",
        "arr #braodcasting operation has affect the original array\n",
        "# if you want to not have it affect the original array...\n",
        "# you need to explicitely set a copy\n",
        "arr_copy = arr.copy()\n",
        "arr_copy[:] = 100\n",
        "arr_copy\n",
        "arr\n",
        "\n",
        "#indexing on 2D arrays\n",
        "arr_2d = np.array([[58,45,75],[20,25,30],[45.67,23]])\n",
        "arr_2d\n",
        "arr_2d.shape\n",
        "arr_2d[0]\n",
        "arr_2d[2]\n",
        "arr_2d[1][1]\n",
        "arr_2d[1,1]\n",
        "arr_2d[0,2]\n",
        "#with real data sets rows are data points and columns are the features\n",
        "arr_2d[:2]\n",
        "arr_2d[:2,1:]\n",
        "# its unlikely we need to do these sort of double subset\n",
        "# typically with real data set we are subsetting either on rows or on columns\n",
        "\n",
        "# Conditional Selection\n",
        "arr = np.arange(1,11)\n",
        "arr\n",
        "arr > 4\n",
        "# we can perform comparison in my array\n",
        "# and then pass that as my conditional selection filter\n",
        "bool_arr = arr > 4\n",
        "bool_arr\n",
        "arr[bool_arr] #filtering original array\n",
        "# we will be doing these sort of things quite often especially with pandas\n",
        "arr[arr > 4]"
      ],
      "metadata": {
        "id": "ADsiFM51SG2T"
      },
      "execution_count": null,
      "outputs": []
    },
    {
      "cell_type": "markdown",
      "source": [
        "**Operation**"
      ],
      "metadata": {
        "id": "t4I-yYlwNxyf"
      }
    },
    {
      "cell_type": "code",
      "source": [
        "# perform operation from number to number basis\n",
        "arr = np.arange(0,10)\n",
        "arr + 5\n",
        "arr - 2\n",
        "arr + arr     # it has to be same shape for this to work\n",
        "arr * arr\n",
        "arr - arr #any sort of operation\n",
        "\n",
        "# some universal array function\n",
        "np.sqrt(arr)\n",
        "np.sin(arr)\n",
        "np.sin(arr)\n",
        "arr.sum()\n",
        "arr.mean()\n",
        "arr.var()\n",
        "arr.std()\n",
        "# we are using one dimenion so its taking everything into account\n",
        "\n",
        "# So lets try for 2D array\n",
        "np.arange(0,25)\n",
        "arr2d = np.arange(0,25).reshape(5,5)\n",
        "arr2d.sum()\n",
        "\n",
        "# sum for all the row and columns\n",
        "arr_2d.sum(axis = 0) #accross the rows\n",
        "arr_2d.sum(axis = 1)"
      ],
      "metadata": {
        "id": "-izEty26SG3R"
      },
      "execution_count": null,
      "outputs": []
    },
    {
      "cell_type": "markdown",
      "source": [
        "#**Pandas**\n",
        "Stands for Panel-Data\n",
        "\n",
        "Its the most popular library for data handling for python.\n",
        "\n",
        "It is built directly off of numpy so we will see lot of similarities.\n",
        "\n",
        "Read in our data, clean the data and even perform feature engineering with Pandas.\n",
        "\n",
        "Useful across many aspects of a data analysis procedures.\n",
        "\n",
        "Pandas relies on some core data structures for its operation, which we will learn today.\n",
        "\n",
        "They are pandas series which is a numpy data array with named index.\n",
        "\n",
        "Then we will expand this to the really core structure of pandas i.e., data frame.\n",
        "\n",
        "pydata.org/pandas-docs/stable"
      ],
      "metadata": {
        "id": "_zup4ntPehWK"
      }
    },
    {
      "cell_type": "code",
      "source": [
        "##### Pandas Series\n",
        "# similar to numpy array only with named index\n",
        "labels = ['a','b','c']\n",
        "mylist = [10,20,30]\n",
        "arr = np.array([10,20,30])\n",
        "d = {'a':10,'b':20,'c':30}\n",
        "pd.Series(data = mylist)  #by default we will have index\n",
        "# but still we can identify with thier ineger location\n",
        "pd.Series(data = mylist, index = labels)\n",
        "# we do not have to specify this as long as we provide in correct order\n",
        "pd.Series(mylist, labels)\n",
        "pd.Series(arr)\n",
        "pd.Series(arr, labels)\n",
        "pd.Series(d)\n",
        "\n",
        "#Lets build some complex series\n",
        "salesQ1 = pd.Series(data = [250,456,234,456], index = ['USA', 'J', 'C', 'I'])\n",
        "salesQ2 = pd.Series(data = [250,500,334,456], index = ['Bhutan','J', 'B','I'])\n",
        "salesQ2['Brazil']\n",
        "# based off the index location or integer based location\n",
        "salesQ2[2]\n",
        "\n",
        "# we can perform operations between Series\n",
        "salesQ1 + salesQ2 # default behavior of NaN if they ain both seriesre not"
      ],
      "metadata": {
        "id": "HqYd9Cu0SG7h"
      },
      "execution_count": null,
      "outputs": []
    },
    {
      "cell_type": "code",
      "source": [
        "#### Pandas DataFrame\n",
        "# Multi-pandas Series sharing the same index\n",
        "columns = ['A','B','C','D']\n",
        "index = [\"V\",\"W\",\"X\",\"Y\",\"Z\"]\n",
        "from numpy.random import randint\n",
        "np.random.seed(42)\n",
        "data = randint(-100,100,(5,4))\n",
        "data\n",
        "\n",
        "# creating pandas DataFrame\n",
        "df = pd.DataFrame(data, index, columns)               df\n",
        "\n",
        "# How do we grab a single column\n",
        "df[\"A\"]\n",
        "type(df[\"A\"] )      # its a series\n",
        "df[[\"A\",\"B\"]] #double bracket is because we're actually passing in a list of columns\n",
        "df[[\"B\",\"A\"]] #does not have to be on order\n",
        "\n",
        "#### Feature engineering --\n",
        "# where you want to create new column with existing columns\n",
        "# we simply reference it as it already exists\n",
        "# and then give the formualtion for what we want to construct\n",
        "df['new'] = df[\"A\"] + df[\"B\"]\n",
        "df\n",
        "\n",
        "# removing a column\n",
        "df.drop('new', axis = 1)   # remember that its not inplace dropping\n",
        "df\n",
        "# permanent dropping\n",
        "df = df.drop('new', axis = 1) # reassignmnet\n",
        "df.drop('new', axis = 1, inplace = True)\n",
        "\n",
        "### Same opeartaions for rows\n",
        "df.loc[\"V\"]  # tells pandas that we are looking for a row\n",
        "df.loc[[\"V\", \"W\"]]\n",
        "\n",
        "df.iloc[0]\n",
        "df.iloc[-1] #grabbing things by an index integer based location\n",
        "df.iloc[0:3]\n",
        "\n",
        "#dropping rows by name\n",
        "df.drop('X') # by default axis = 0\n",
        "\n",
        "# selecting subset of rows and column at the same time\n",
        "df.loc[\"V\", \"C\"] # similar logic we used with numpy\n",
        "df.loc[[\"V\",\"W\"], \"C\"]\n",
        "df.loc[[\"V\",\"W\"], [\"A\", \"C\"]]"
      ],
      "metadata": {
        "id": "WdnMxJF1SG8X"
      },
      "execution_count": null,
      "outputs": []
    },
    {
      "cell_type": "code",
      "source": [
        "df\n",
        "# grabbing subset of dataframe which only has +ve values\n",
        "df > 0 # here we are performing the comparision operator accorss the dataframe\n",
        "df[df > 0] #passing it in to the dataframe as a filtering condition\n",
        "df[\"A\"] > 0\n",
        "df[df[\"A\"] > 0]  #take this condition and pass in our dataframe\n",
        "df[df[\"A\"] > 0][\"C\"]\n",
        "\n",
        "# lets make two condition\n",
        "df[(df[\"A\"] > 0) & (df[\"B\"] > 1) ]\n",
        "df[(df[\"A\"] > 0)  (df[\"B\"] > 1) ]\n",
        "\n",
        "# resetting the index\n",
        "df.reset_index()\n",
        "\n",
        "new_ind = [\"Ca\", \"Ny\", \"Wy\", \"Or\", \"Co\"]\n",
        "df['states'] = new_ind\n",
        "df\n",
        "df.set_index('states')\n",
        "df.columns"
      ],
      "metadata": {
        "id": "OE2kxwkWSHAh"
      },
      "execution_count": null,
      "outputs": []
    },
    {
      "cell_type": "code",
      "source": [
        "# Missing data   #educated guess / common sense\n",
        "df = pd.DataFrame({'A':[4,3,np.nan,2],'B':[90,np.nan,np.nan,2],'C': [12,23,34,45]})\n",
        "df\n",
        "# remove\n",
        "df.dropna()\n",
        "df.dropna(axis = 1)\n",
        "df.dropna(axis = 1, thresh = 3)\n",
        "# fill in missing values\n",
        "df.fillna(value = 'FILL VALUE')\n",
        "df.fillna(value = 0)\n",
        "# filling based of columns\n",
        "df['A'].fillna(value = 0)\n",
        "df['A'] = df['A'].fillna(value = 0)\n",
        "# with mean\n",
        "df[\"B\"].mean()\n",
        "df['B'].fillna(value = df[\"B\"].mean())"
      ],
      "metadata": {
        "id": "V9BOgT0-ui1Z"
      },
      "execution_count": null,
      "outputs": []
    },
    {
      "cell_type": "code",
      "source": [
        "# GroupBy ---> must be an aggregation method\n",
        "df.groupby('Year').sum()\n",
        "df.groupby('Year').sum().sort_index(ascending = False)\n",
        "\n",
        "# group by year and then sector\n",
        "df.groupby(['Year', 'Sector']).sum() #multitiered index or multi hierarchy index\n",
        "df.groupby('Year').describe() # multi tiered columns"
      ],
      "metadata": {
        "id": "KAJurOmqwKm-"
      },
      "execution_count": null,
      "outputs": []
    }
  ]
}