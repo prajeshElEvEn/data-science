{
 "cells": [
  {
   "attachments": {
    "Python-Symbol-1.jpg": {
     "image/jpeg": "[encoded data removed]"
    }
   },
   "cell_type": "markdown",
   "id": "f4fe2fb1",
   "metadata": {},
   "source": [
    "![Python-Symbol-1.jpg](attachment:Python-Symbol-1.jpg)"
   ]
  },
  {
   "cell_type": "markdown",
   "id": "c4b77cd7",
   "metadata": {},
   "source": [
    "## Python has vast usage in Industry and is open source. Lot of developers has contributed to it. Python do not have any restriction on data."
   ]
  },
  {
   "cell_type": "code",
   "execution_count": 1,
   "id": "b5242fbe",
   "metadata": {},
   "outputs": [
    {
     "name": "stdout",
     "output_type": "stream",
     "text": [
      "Deep Thought\n"
     ]
    }
   ],
   "source": [
    "#String\n",
    "print(\"Deep Thought\")"
   ]
  },
  {
   "cell_type": "code",
   "execution_count": 2,
   "id": "4d68fb5a",
   "metadata": {},
   "outputs": [
    {
     "data": {
      "text/plain": [
       "bool"
      ]
     },
     "execution_count": 2,
     "metadata": {},
     "output_type": "execute_result"
    }
   ],
   "source": [
    "#Boolean\n",
    "type(True)"
   ]
  },
  {
   "cell_type": "code",
   "execution_count": 3,
   "id": "5a9be7d7",
   "metadata": {},
   "outputs": [
    {
     "data": {
      "text/plain": [
       "NoneType"
      ]
     },
     "execution_count": 3,
     "metadata": {},
     "output_type": "execute_result"
    }
   ],
   "source": [
    "# None data\n",
    "a=None\n",
    "type(a)"
   ]
  },
  {
   "cell_type": "raw",
   "id": "51d91e8a",
   "metadata": {},
   "source": [
    "# Rules for Naming variables\n",
    "## a-z\n",
    "## A-Z\n",
    "## 0-9\n",
    "## underscore\n",
    "\n",
    "## Do not start variable name with digit"
   ]
  },
  {
   "cell_type": "code",
   "execution_count": 4,
   "id": "01600c83",
   "metadata": {},
   "outputs": [
    {
     "name": "stdout",
     "output_type": "stream",
     "text": [
      "HAI\n"
     ]
    }
   ],
   "source": [
    "x=input()\n",
    "print(x)"
   ]
  },
  {
   "cell_type": "code",
   "execution_count": 5,
   "id": "482848d9",
   "metadata": {},
   "outputs": [
    {
     "name": "stdout",
     "output_type": "stream",
     "text": [
      "Go HAI45\n"
     ]
    }
   ],
   "source": [
    "x=input()\n",
    "y=input()\n",
    "print(x+y)"
   ]
  },
  {
   "cell_type": "code",
   "execution_count": 6,
   "id": "93d80249",
   "metadata": {},
   "outputs": [
    {
     "name": "stdout",
     "output_type": "stream",
     "text": [
      "The bus has left for school\n"
     ]
    }
   ],
   "source": [
    "## string concat\n",
    "a=\"The bus has left\"\n",
    "b=\"for school\"\n",
    "print(a+\" \"+b)"
   ]
  },
  {
   "cell_type": "code",
   "execution_count": 7,
   "id": "893f8165",
   "metadata": {},
   "outputs": [
    {
     "name": "stdout",
     "output_type": "stream",
     "text": [
      "The match between India and pakistan is scheduled tomorrow\n"
     ]
    }
   ],
   "source": [
    "## format while printing\n",
    "a=\"India\"\n",
    "print(f\"The match between {a} and pakistan is scheduled tomorrow\")"
   ]
  },
  {
   "cell_type": "code",
   "execution_count": 8,
   "id": "ece715bc",
   "metadata": {},
   "outputs": [
    {
     "name": "stdout",
     "output_type": "stream",
     "text": [
      "The match between India and pakistan is scheduled tomorrow\n"
     ]
    }
   ],
   "source": [
    "print(\"The match between {} and pakistan is scheduled tomorrow\".format(a))"
   ]
  },
  {
   "cell_type": "code",
   "execution_count": 9,
   "id": "a7208960",
   "metadata": {},
   "outputs": [
    {
     "name": "stdout",
     "output_type": "stream",
     "text": [
      "82\n"
     ]
    }
   ],
   "source": [
    "## Type cast\n",
    "x=int(input())\n",
    "y=int(input())\n",
    "print(x+y)"
   ]
  },
  {
   "cell_type": "code",
   "execution_count": 10,
   "id": "d6d52e53",
   "metadata": {},
   "outputs": [],
   "source": [
    "# Arithmetic operator"
   ]
  },
  {
   "cell_type": "code",
   "execution_count": 11,
   "id": "a2101a7d",
   "metadata": {},
   "outputs": [
    {
     "data": {
      "text/plain": [
       "7"
      ]
     },
     "execution_count": 11,
     "metadata": {},
     "output_type": "execute_result"
    }
   ],
   "source": [
    "5+2"
   ]
  },
  {
   "cell_type": "code",
   "execution_count": 12,
   "id": "908c4304",
   "metadata": {},
   "outputs": [
    {
     "data": {
      "text/plain": [
       "20"
      ]
     },
     "execution_count": 12,
     "metadata": {},
     "output_type": "execute_result"
    }
   ],
   "source": [
    "5*4"
   ]
  },
  {
   "cell_type": "code",
   "execution_count": 13,
   "id": "072a9c3e",
   "metadata": {},
   "outputs": [
    {
     "data": {
      "text/plain": [
       "86"
      ]
     },
     "execution_count": 13,
     "metadata": {},
     "output_type": "execute_result"
    }
   ],
   "source": [
    "100-7*2"
   ]
  },
  {
   "cell_type": "code",
   "execution_count": 14,
   "id": "d4b4a86e",
   "metadata": {},
   "outputs": [
    {
     "data": {
      "text/plain": [
       "47.0"
      ]
     },
     "execution_count": 14,
     "metadata": {},
     "output_type": "execute_result"
    }
   ],
   "source": [
    "(100-6)/2"
   ]
  },
  {
   "cell_type": "code",
   "execution_count": 15,
   "id": "a1613de5",
   "metadata": {},
   "outputs": [
    {
     "data": {
      "text/plain": [
       "True"
      ]
     },
     "execution_count": 15,
     "metadata": {},
     "output_type": "execute_result"
    }
   ],
   "source": [
    "bool('unit')"
   ]
  },
  {
   "cell_type": "code",
   "execution_count": 16,
   "id": "c19faeb7",
   "metadata": {},
   "outputs": [
    {
     "data": {
      "text/plain": [
       "True"
      ]
     },
     "execution_count": 16,
     "metadata": {},
     "output_type": "execute_result"
    }
   ],
   "source": [
    "bool(\" \")"
   ]
  },
  {
   "cell_type": "code",
   "execution_count": 17,
   "id": "faff5142",
   "metadata": {},
   "outputs": [
    {
     "data": {
      "text/plain": [
       "False"
      ]
     },
     "execution_count": 17,
     "metadata": {},
     "output_type": "execute_result"
    }
   ],
   "source": [
    "bool(0)"
   ]
  },
  {
   "cell_type": "code",
   "execution_count": 18,
   "id": "b8867ed8",
   "metadata": {},
   "outputs": [
    {
     "data": {
      "text/plain": [
       "True"
      ]
     },
     "execution_count": 18,
     "metadata": {},
     "output_type": "execute_result"
    }
   ],
   "source": [
    "bool(-9)"
   ]
  },
  {
   "cell_type": "code",
   "execution_count": 19,
   "id": "63a43e08",
   "metadata": {},
   "outputs": [
    {
     "data": {
      "text/plain": [
       "True"
      ]
     },
     "execution_count": 19,
     "metadata": {},
     "output_type": "execute_result"
    }
   ],
   "source": [
    "bool(True)"
   ]
  },
  {
   "cell_type": "code",
   "execution_count": 20,
   "id": "b8045887",
   "metadata": {},
   "outputs": [
    {
     "data": {
      "text/plain": [
       "1"
      ]
     },
     "execution_count": 20,
     "metadata": {},
     "output_type": "execute_result"
    }
   ],
   "source": [
    "int(True)"
   ]
  },
  {
   "cell_type": "code",
   "execution_count": 21,
   "id": "566e6dc0",
   "metadata": {},
   "outputs": [
    {
     "data": {
      "text/plain": [
       "0"
      ]
     },
     "execution_count": 21,
     "metadata": {},
     "output_type": "execute_result"
    }
   ],
   "source": [
    "int(False)"
   ]
  },
  {
   "cell_type": "code",
   "execution_count": 22,
   "id": "57b050ab",
   "metadata": {},
   "outputs": [],
   "source": [
    "## Comparision Operator # (greater than = , & , |)\n",
    "a=10\n",
    "b=5"
   ]
  },
  {
   "cell_type": "code",
   "execution_count": 23,
   "id": "cb2e5400",
   "metadata": {},
   "outputs": [
    {
     "data": {
      "text/plain": [
       "False"
      ]
     },
     "execution_count": 23,
     "metadata": {},
     "output_type": "execute_result"
    }
   ],
   "source": [
    "a==b"
   ]
  },
  {
   "cell_type": "code",
   "execution_count": 24,
   "id": "c4d5ae2a",
   "metadata": {},
   "outputs": [
    {
     "data": {
      "text/plain": [
       "True"
      ]
     },
     "execution_count": 24,
     "metadata": {},
     "output_type": "execute_result"
    }
   ],
   "source": [
    "a>b"
   ]
  },
  {
   "cell_type": "code",
   "execution_count": 25,
   "id": "9f22e0df",
   "metadata": {},
   "outputs": [
    {
     "data": {
      "text/plain": [
       "False"
      ]
     },
     "execution_count": 25,
     "metadata": {},
     "output_type": "execute_result"
    }
   ],
   "source": [
    "a<b"
   ]
  },
  {
   "cell_type": "code",
   "execution_count": 26,
   "id": "ff287f7f",
   "metadata": {},
   "outputs": [
    {
     "data": {
      "text/plain": [
       "True"
      ]
     },
     "execution_count": 26,
     "metadata": {},
     "output_type": "execute_result"
    }
   ],
   "source": [
    "a>=b"
   ]
  },
  {
   "cell_type": "code",
   "execution_count": 27,
   "id": "7885826b",
   "metadata": {},
   "outputs": [
    {
     "data": {
      "text/plain": [
       "False"
      ]
     },
     "execution_count": 27,
     "metadata": {},
     "output_type": "execute_result"
    }
   ],
   "source": [
    "a<=b"
   ]
  },
  {
   "cell_type": "code",
   "execution_count": 28,
   "id": "ace9364d",
   "metadata": {},
   "outputs": [
    {
     "data": {
      "text/plain": [
       "True"
      ]
     },
     "execution_count": 28,
     "metadata": {},
     "output_type": "execute_result"
    }
   ],
   "source": [
    "a!=b"
   ]
  },
  {
   "cell_type": "code",
   "execution_count": 29,
   "id": "c03f4391",
   "metadata": {},
   "outputs": [
    {
     "data": {
      "text/plain": [
       "0"
      ]
     },
     "execution_count": 29,
     "metadata": {},
     "output_type": "execute_result"
    }
   ],
   "source": [
    "int(a<b)"
   ]
  },
  {
   "cell_type": "code",
   "execution_count": 30,
   "id": "8cbdfbd5",
   "metadata": {},
   "outputs": [
    {
     "data": {
      "text/plain": [
       "True"
      ]
     },
     "execution_count": 30,
     "metadata": {},
     "output_type": "execute_result"
    }
   ],
   "source": [
    "(a>0) | (b>0)"
   ]
  },
  {
   "cell_type": "code",
   "execution_count": 31,
   "id": "18c1fecd",
   "metadata": {},
   "outputs": [
    {
     "data": {
      "text/plain": [
       "True"
      ]
     },
     "execution_count": 31,
     "metadata": {},
     "output_type": "execute_result"
    }
   ],
   "source": [
    "(a>0) & (b>0)"
   ]
  },
  {
   "cell_type": "markdown",
   "id": "2e6fced2",
   "metadata": {},
   "source": [
    "# Data Structures"
   ]
  },
  {
   "cell_type": "code",
   "execution_count": 32,
   "id": "e92cfe55",
   "metadata": {},
   "outputs": [],
   "source": [
    "# List\n"
   ]
  },
  {
   "cell_type": "code",
   "execution_count": 33,
   "id": "a08b4b01",
   "metadata": {},
   "outputs": [],
   "source": [
    "## List a order collection of data."
   ]
  },
  {
   "cell_type": "code",
   "execution_count": 34,
   "id": "7a887a74",
   "metadata": {},
   "outputs": [
    {
     "name": "stdout",
     "output_type": "stream",
     "text": [
      "['The', 'dumping', 'of', 'wastes', 'in', 'Oceans', 'have', 'severe', 'affect', 'on', \"Earth's\", 'ecosystem']\n"
     ]
    }
   ],
   "source": [
    "rc=\"The dumping of wastes in Oceans have severe affect on Earth's ecosystem \"\n",
    "print(rc.split())"
   ]
  },
  {
   "cell_type": "code",
   "execution_count": 35,
   "id": "2bfc211d",
   "metadata": {},
   "outputs": [
    {
     "data": {
      "text/plain": [
       "\"The dumping of wastes in Oceans have severe affect on Earth's ecosystem \""
      ]
     },
     "execution_count": 35,
     "metadata": {},
     "output_type": "execute_result"
    }
   ],
   "source": [
    "rc"
   ]
  },
  {
   "cell_type": "code",
   "execution_count": 36,
   "id": "caf39111",
   "metadata": {},
   "outputs": [
    {
     "name": "stdout",
     "output_type": "stream",
     "text": [
      "['The', 'dumping', 'of', 'wastes', 'in', 'Oceans', 'have', 'severe', 'affect', 'on', \"Earth's\", 'ecosystem']\n"
     ]
    }
   ],
   "source": [
    "rc1=rc.split()\n",
    "print(rc1)"
   ]
  },
  {
   "cell_type": "code",
   "execution_count": 37,
   "id": "447b658c",
   "metadata": {},
   "outputs": [
    {
     "name": "stdout",
     "output_type": "stream",
     "text": [
      "Code Favtutor MachineLearning Students Studies java Python\n"
     ]
    }
   ],
   "source": [
    "idx=\"Code Favtutor MachineLearning Students Studies java Python\"\n",
    "print(idx)"
   ]
  },
  {
   "cell_type": "code",
   "execution_count": 38,
   "id": "1035a8a3",
   "metadata": {},
   "outputs": [
    {
     "data": {
      "text/plain": [
       "'C'"
      ]
     },
     "execution_count": 38,
     "metadata": {},
     "output_type": "execute_result"
    }
   ],
   "source": [
    "idx[0]"
   ]
  },
  {
   "cell_type": "markdown",
   "id": "b7d116da",
   "metadata": {},
   "source": [
    "## Indexing"
   ]
  },
  {
   "attachments": {
    "pic2.png": {
     "image/png": "[encoded data removed]"
    }
   },
   "cell_type": "markdown",
   "id": "2477f778",
   "metadata": {},
   "source": [
    "![pic2.png](attachment:pic2.png)"
   ]
  },
  {
   "cell_type": "code",
   "execution_count": 39,
   "id": "49ea7a65",
   "metadata": {},
   "outputs": [
    {
     "name": "stdout",
     "output_type": "stream",
     "text": [
      "['Code', 'Favtutor', 'MachineLearning', 'Students', 'Studies', 'java', 'Python']\n"
     ]
    }
   ],
   "source": [
    "brk=idx.split()\n",
    "print(brk)"
   ]
  },
  {
   "cell_type": "code",
   "execution_count": 40,
   "id": "8ef08208",
   "metadata": {},
   "outputs": [
    {
     "data": {
      "text/plain": [
       "'Code'"
      ]
     },
     "execution_count": 40,
     "metadata": {},
     "output_type": "execute_result"
    }
   ],
   "source": [
    "brk[0]"
   ]
  },
  {
   "cell_type": "code",
   "execution_count": 41,
   "id": "2c71fa9f",
   "metadata": {},
   "outputs": [
    {
     "data": {
      "text/plain": [
       "'Python'"
      ]
     },
     "execution_count": 41,
     "metadata": {},
     "output_type": "execute_result"
    }
   ],
   "source": [
    "brk[-1]"
   ]
  },
  {
   "cell_type": "code",
   "execution_count": 42,
   "id": "c4511d63",
   "metadata": {},
   "outputs": [],
   "source": [
    "x1=[2,4,'india',450.0]"
   ]
  },
  {
   "cell_type": "code",
   "execution_count": 43,
   "id": "d5d51164",
   "metadata": {},
   "outputs": [
    {
     "data": {
      "text/plain": [
       "4"
      ]
     },
     "execution_count": 43,
     "metadata": {},
     "output_type": "execute_result"
    }
   ],
   "source": [
    "len(x1)"
   ]
  },
  {
   "cell_type": "code",
   "execution_count": 44,
   "id": "ba0fdaf5",
   "metadata": {},
   "outputs": [
    {
     "data": {
      "text/plain": [
       "2"
      ]
     },
     "execution_count": 44,
     "metadata": {},
     "output_type": "execute_result"
    }
   ],
   "source": [
    "x1[0]"
   ]
  },
  {
   "cell_type": "code",
   "execution_count": 45,
   "id": "6ff21905",
   "metadata": {},
   "outputs": [
    {
     "data": {
      "text/plain": [
       "450.0"
      ]
     },
     "execution_count": 45,
     "metadata": {},
     "output_type": "execute_result"
    }
   ],
   "source": [
    "x1[-1]"
   ]
  },
  {
   "cell_type": "code",
   "execution_count": 46,
   "id": "fbf0e800",
   "metadata": {},
   "outputs": [
    {
     "name": "stdout",
     "output_type": "stream",
     "text": [
      "[2, 4, 'india', 450.0, 32]\n"
     ]
    }
   ],
   "source": [
    "x1.append(32)\n",
    "print(x1)"
   ]
  },
  {
   "cell_type": "code",
   "execution_count": 47,
   "id": "6e2ed225",
   "metadata": {},
   "outputs": [
    {
     "name": "stdout",
     "output_type": "stream",
     "text": [
      "[2, 4, 'mother', 'india', 450.0, 32]\n"
     ]
    }
   ],
   "source": [
    "x1.insert(2,'mother')\n",
    "print(x1)"
   ]
  },
  {
   "cell_type": "code",
   "execution_count": 48,
   "id": "425e87be",
   "metadata": {},
   "outputs": [
    {
     "data": {
      "text/plain": [
       "32"
      ]
     },
     "execution_count": 48,
     "metadata": {},
     "output_type": "execute_result"
    }
   ],
   "source": [
    "x1.pop()\n"
   ]
  },
  {
   "cell_type": "code",
   "execution_count": 49,
   "id": "7f4dbeb4",
   "metadata": {},
   "outputs": [
    {
     "name": "stdout",
     "output_type": "stream",
     "text": [
      "[2, 4, 'mother', 'india', 450.0]\n"
     ]
    }
   ],
   "source": [
    "print(x1)"
   ]
  },
  {
   "cell_type": "markdown",
   "id": "ef09280f",
   "metadata": {},
   "source": [
    "## Beginner's Function (must know)"
   ]
  },
  {
   "cell_type": "code",
   "execution_count": 51,
   "id": "623a3819",
   "metadata": {},
   "outputs": [
    {
     "data": {
      "text/plain": [
       "[56]"
      ]
     },
     "execution_count": 51,
     "metadata": {},
     "output_type": "execute_result"
    }
   ],
   "source": [
    "list(map(int,input().split())) # once you split it becomes iterables"
   ]
  },
  {
   "cell_type": "code",
   "execution_count": 52,
   "id": "ede3a38f",
   "metadata": {},
   "outputs": [],
   "source": [
    "r1=list()\n",
    "r1=[]"
   ]
  },
  {
   "cell_type": "code",
   "execution_count": 53,
   "id": "d58d0e72",
   "metadata": {},
   "outputs": [],
   "source": [
    "xx=\"I have a puppy at my home\""
   ]
  },
  {
   "cell_type": "code",
   "execution_count": 54,
   "id": "8939aefd",
   "metadata": {},
   "outputs": [
    {
     "data": {
      "text/plain": [
       "9"
      ]
     },
     "execution_count": 54,
     "metadata": {},
     "output_type": "execute_result"
    }
   ],
   "source": [
    "xx.find(\"pupp\")"
   ]
  },
  {
   "cell_type": "code",
   "execution_count": 55,
   "id": "49173a02",
   "metadata": {},
   "outputs": [
    {
     "data": {
      "text/plain": [
       "-1"
      ]
     },
     "execution_count": 55,
     "metadata": {},
     "output_type": "execute_result"
    }
   ],
   "source": [
    "xx.find(\"puppi\") # -1 is returned if keyword not present"
   ]
  },
  {
   "cell_type": "code",
   "execution_count": 56,
   "id": "d121d306",
   "metadata": {},
   "outputs": [],
   "source": [
    "x2=\"I live in India\""
   ]
  },
  {
   "cell_type": "code",
   "execution_count": 57,
   "id": "6a6f2786",
   "metadata": {},
   "outputs": [
    {
     "data": {
      "text/plain": [
       "'I live in Germany'"
      ]
     },
     "execution_count": 57,
     "metadata": {},
     "output_type": "execute_result"
    }
   ],
   "source": [
    "x2.replace(\"India\",\"Germany\")"
   ]
  },
  {
   "cell_type": "code",
   "execution_count": 58,
   "id": "3dad931e",
   "metadata": {},
   "outputs": [
    {
     "data": {
      "text/plain": [
       "True"
      ]
     },
     "execution_count": 58,
     "metadata": {},
     "output_type": "execute_result"
    }
   ],
   "source": [
    "\"67\".isdigit() # to check if a string has digit"
   ]
  },
  {
   "cell_type": "code",
   "execution_count": 59,
   "id": "2764f763",
   "metadata": {},
   "outputs": [
    {
     "data": {
      "text/plain": [
       "True"
      ]
     },
     "execution_count": 59,
     "metadata": {},
     "output_type": "execute_result"
    }
   ],
   "source": [
    "\"gaurav\".isalpha()"
   ]
  },
  {
   "cell_type": "code",
   "execution_count": 60,
   "id": "b631da57",
   "metadata": {},
   "outputs": [
    {
     "data": {
      "text/plain": [
       "False"
      ]
     },
     "execution_count": 60,
     "metadata": {},
     "output_type": "execute_result"
    }
   ],
   "source": [
    "## if a context has numeric entry ,How will you identify\n",
    "\"I am hidding number 101 inside this text\".isalpha()"
   ]
  },
  {
   "cell_type": "code",
   "execution_count": 61,
   "id": "d56ca2ee",
   "metadata": {},
   "outputs": [
    {
     "data": {
      "text/plain": [
       "'DEEP THOUGHT'"
      ]
     },
     "execution_count": 61,
     "metadata": {},
     "output_type": "execute_result"
    }
   ],
   "source": [
    "\"deep thought\".upper()"
   ]
  },
  {
   "cell_type": "code",
   "execution_count": 62,
   "id": "b7beaaa3",
   "metadata": {},
   "outputs": [
    {
     "data": {
      "text/plain": [
       "'deep thought'"
      ]
     },
     "execution_count": 62,
     "metadata": {},
     "output_type": "execute_result"
    }
   ],
   "source": [
    "\"DEEP Thought\".lower()"
   ]
  },
  {
   "cell_type": "code",
   "execution_count": 63,
   "id": "fbaea07c",
   "metadata": {},
   "outputs": [
    {
     "name": "stdout",
     "output_type": "stream",
     "text": [
      "True\n"
     ]
    }
   ],
   "source": [
    "message=\"Not hello world\"\n",
    "message=message.lower()\n",
    "print(message.startswith(\"not\"))"
   ]
  },
  {
   "cell_type": "code",
   "execution_count": 64,
   "id": "9781df99",
   "metadata": {},
   "outputs": [
    {
     "name": "stdout",
     "output_type": "stream",
     "text": [
      "True\n"
     ]
    }
   ],
   "source": [
    "message=\"Not hello world\"\n",
    "message=message.lower()\n",
    "print(message.endswith(\"world\"))"
   ]
  },
  {
   "cell_type": "code",
   "execution_count": 65,
   "id": "d2d613c8",
   "metadata": {},
   "outputs": [],
   "source": [
    "# tuple and sets"
   ]
  },
  {
   "cell_type": "code",
   "execution_count": 66,
   "id": "f6156f91",
   "metadata": {},
   "outputs": [],
   "source": [
    "pl=(\"mercury\",\"venus\",\"earth\",\"mars\",\"jupiter\")"
   ]
  },
  {
   "cell_type": "code",
   "execution_count": 67,
   "id": "4c1ada58",
   "metadata": {},
   "outputs": [
    {
     "data": {
      "text/plain": [
       "'mercury'"
      ]
     },
     "execution_count": 67,
     "metadata": {},
     "output_type": "execute_result"
    }
   ],
   "source": [
    "pl[0]"
   ]
  },
  {
   "cell_type": "code",
   "execution_count": 68,
   "id": "02614e6b",
   "metadata": {},
   "outputs": [
    {
     "ename": "TypeError",
     "evalue": "'tuple' object does not support item assignment",
     "output_type": "error",
     "traceback": [
      "\u001b[0;31m---------------------------------------------------------------------------\u001b[0m",
      "\u001b[0;31mTypeError\u001b[0m                                 Traceback (most recent call last)",
      "\u001b[1;32m/home/prajesh/Documents/org/deepthought/workshop/data-science/week1/main.ipynb Cell 74\u001b[0m line \u001b[0;36m1\n\u001b[0;32m----> <a href='vscode-notebook-cell:/home/prajesh/Documents/org/deepthought/workshop/data-science/week1/main.ipynb#Y133sZmlsZQ%3D%3D?line=0'>1</a>\u001b[0m pl[\u001b[39m0\u001b[39;49m]\u001b[39m=\u001b[39m\u001b[39m\"\u001b[39m\u001b[39mSaturn\u001b[39m\u001b[39m\"\u001b[39m  \u001b[39m# tupples are iterable but immutable \u001b[39;00m\n",
      "\u001b[0;31mTypeError\u001b[0m: 'tuple' object does not support item assignment"
     ]
    }
   ],
   "source": [
    "pl[0]=\"Saturn\"  # tupples are iterable but immutable "
   ]
  },
  {
   "cell_type": "code",
   "execution_count": 69,
   "id": "6adeba57",
   "metadata": {},
   "outputs": [
    {
     "name": "stdout",
     "output_type": "stream",
     "text": [
      "{1, 3, 4, 5, 7, 8, 9}\n"
     ]
    }
   ],
   "source": [
    "# SET IS UNORDERED COLLECTION OF UNIQUE DATA.Iterable but no indexing\n",
    "dy4=set([1,1,3,4,5,5,7,8,9,9])\n",
    "print(dy4)"
   ]
  },
  {
   "cell_type": "code",
   "execution_count": 70,
   "id": "361adad6",
   "metadata": {},
   "outputs": [
    {
     "name": "stdout",
     "output_type": "stream",
     "text": [
      "{1, 2, 3, 4, 5, 6, 7, 8}\n"
     ]
    }
   ],
   "source": [
    "dy5={1,1,2,3,3,4,5,5,6,7,8,8}\n",
    "print(dy5)"
   ]
  },
  {
   "cell_type": "code",
   "execution_count": 71,
   "id": "84b3601d",
   "metadata": {},
   "outputs": [
    {
     "name": "stdout",
     "output_type": "stream",
     "text": [
      "{'apple', 67, 86}\n"
     ]
    }
   ],
   "source": [
    "st={67,86,\"apple\"}\n",
    "print(st)"
   ]
  },
  {
   "cell_type": "code",
   "execution_count": 72,
   "id": "ccaa47cf",
   "metadata": {},
   "outputs": [
    {
     "data": {
      "text/plain": [
       "{}"
      ]
     },
     "execution_count": 72,
     "metadata": {},
     "output_type": "execute_result"
    }
   ],
   "source": [
    "set([])\n",
    "{}"
   ]
  },
  {
   "cell_type": "code",
   "execution_count": 73,
   "id": "8c0d36ce",
   "metadata": {},
   "outputs": [
    {
     "data": {
      "text/plain": [
       "dict"
      ]
     },
     "execution_count": 73,
     "metadata": {},
     "output_type": "execute_result"
    }
   ],
   "source": [
    "#Dictionary\n",
    "dt=dict()\n",
    "type(dt)"
   ]
  },
  {
   "cell_type": "code",
   "execution_count": 74,
   "id": "25d49f13",
   "metadata": {},
   "outputs": [],
   "source": [
    "dt.update({\"Cars\": [\"XUV500\",\"Octavia\",\"TRoc\"]})"
   ]
  },
  {
   "cell_type": "code",
   "execution_count": 75,
   "id": "c2852f2f",
   "metadata": {},
   "outputs": [
    {
     "name": "stdout",
     "output_type": "stream",
     "text": [
      "{'Cars': ['XUV500', 'Octavia', 'TRoc']}\n"
     ]
    }
   ],
   "source": [
    "print(dt)"
   ]
  },
  {
   "cell_type": "code",
   "execution_count": 76,
   "id": "bde654f3",
   "metadata": {},
   "outputs": [],
   "source": [
    "dt.update({\"Bikes\":[\"RX100\",\"Spendor\",\"Apache\"]})"
   ]
  },
  {
   "cell_type": "code",
   "execution_count": 77,
   "id": "fa3bde5f",
   "metadata": {},
   "outputs": [],
   "source": [
    "dt.update({\"UI\":\"anjika\"})"
   ]
  },
  {
   "cell_type": "code",
   "execution_count": 78,
   "id": "2585fbf6",
   "metadata": {},
   "outputs": [
    {
     "name": "stdout",
     "output_type": "stream",
     "text": [
      "{'Cars': ['XUV500', 'Octavia', 'TRoc'], 'Bikes': ['RX100', 'Spendor', 'Apache'], 'UI': 'anjika'}\n"
     ]
    }
   ],
   "source": [
    "print(dt)"
   ]
  },
  {
   "cell_type": "code",
   "execution_count": 79,
   "id": "37e3a61f",
   "metadata": {},
   "outputs": [
    {
     "data": {
      "text/plain": [
       "dict_keys(['Cars', 'Bikes', 'UI'])"
      ]
     },
     "execution_count": 79,
     "metadata": {},
     "output_type": "execute_result"
    }
   ],
   "source": [
    "dt.keys()"
   ]
  },
  {
   "cell_type": "code",
   "execution_count": 80,
   "id": "d65a61c2",
   "metadata": {},
   "outputs": [
    {
     "data": {
      "text/plain": [
       "dict_values([['XUV500', 'Octavia', 'TRoc'], ['RX100', 'Spendor', 'Apache'], 'anjika'])"
      ]
     },
     "execution_count": 80,
     "metadata": {},
     "output_type": "execute_result"
    }
   ],
   "source": [
    "dt.values()"
   ]
  },
  {
   "cell_type": "code",
   "execution_count": 81,
   "id": "d5948d20",
   "metadata": {},
   "outputs": [
    {
     "data": {
      "text/plain": [
       "dict_items([('Cars', ['XUV500', 'Octavia', 'TRoc']), ('Bikes', ['RX100', 'Spendor', 'Apache']), ('UI', 'anjika')])"
      ]
     },
     "execution_count": 81,
     "metadata": {},
     "output_type": "execute_result"
    }
   ],
   "source": [
    "dt.items() # tuple form"
   ]
  },
  {
   "cell_type": "code",
   "execution_count": 82,
   "id": "689b22c4",
   "metadata": {},
   "outputs": [],
   "source": [
    "dt[\"Aircraft\"]=[\"F22\",\"Sukhoi\",\"LCA Tejas\"]"
   ]
  },
  {
   "cell_type": "code",
   "execution_count": 83,
   "id": "1e1d9528",
   "metadata": {},
   "outputs": [
    {
     "name": "stdout",
     "output_type": "stream",
     "text": [
      "{'Cars': ['XUV500', 'Octavia', 'TRoc'], 'Bikes': ['RX100', 'Spendor', 'Apache'], 'UI': 'anjika', 'Aircraft': ['F22', 'Sukhoi', 'LCA Tejas']}\n"
     ]
    }
   ],
   "source": [
    "print(dt)"
   ]
  },
  {
   "cell_type": "code",
   "execution_count": 84,
   "id": "105ff1a5",
   "metadata": {},
   "outputs": [
    {
     "data": {
      "text/plain": [
       "['XUV500', 'Octavia', 'TRoc']"
      ]
     },
     "execution_count": 84,
     "metadata": {},
     "output_type": "execute_result"
    }
   ],
   "source": [
    "dt.pop('Cars')"
   ]
  },
  {
   "cell_type": "code",
   "execution_count": 85,
   "id": "8d36cbed",
   "metadata": {},
   "outputs": [
    {
     "name": "stdout",
     "output_type": "stream",
     "text": [
      "{'Bikes': ['RX100', 'Spendor', 'Apache'], 'UI': 'anjika', 'Aircraft': ['F22', 'Sukhoi', 'LCA Tejas']}\n"
     ]
    }
   ],
   "source": [
    "print(dt)"
   ]
  },
  {
   "cell_type": "markdown",
   "id": "a2ba5cf4",
   "metadata": {},
   "source": [
    "## if ,else if , else"
   ]
  },
  {
   "cell_type": "code",
   "execution_count": 86,
   "id": "24004e6c",
   "metadata": {},
   "outputs": [
    {
     "name": "stdout",
     "output_type": "stream",
     "text": [
      "Sum less than 20\n"
     ]
    }
   ],
   "source": [
    "m=9\n",
    "n=10\n",
    "if m+n<20:\n",
    "    print(\"Sum less than 20\")\n",
    "elif (m+n>=20) & (m+n<30):\n",
    "    print(\"Sum is between 20 and 30\")\n",
    "else:\n",
    "    print(\"Sum greater than eqaul to 30\")"
   ]
  },
  {
   "cell_type": "markdown",
   "id": "3c151f85",
   "metadata": {},
   "source": [
    "## while and for loop"
   ]
  },
  {
   "cell_type": "code",
   "execution_count": 87,
   "id": "b524f818",
   "metadata": {},
   "outputs": [],
   "source": [
    "## works on iterable :list,tuple,dictionary"
   ]
  },
  {
   "cell_type": "code",
   "execution_count": 88,
   "id": "c3f713fb",
   "metadata": {},
   "outputs": [
    {
     "data": {
      "text/plain": [
       "[0, 1, 2, 3, 4, 5, 6, 7, 8, 9]"
      ]
     },
     "execution_count": 88,
     "metadata": {},
     "output_type": "execute_result"
    }
   ],
   "source": [
    "list(range(10))"
   ]
  },
  {
   "cell_type": "code",
   "execution_count": 89,
   "id": "9a826027",
   "metadata": {},
   "outputs": [
    {
     "name": "stdout",
     "output_type": "stream",
     "text": [
      "[0, 1, 2, 3, 4, 5, 6, 7, 8, 9, 10]\n"
     ]
    }
   ],
   "source": [
    "a1=list((range(0,11)))\n",
    "print(a1)"
   ]
  },
  {
   "cell_type": "code",
   "execution_count": 90,
   "id": "e50ddbc9",
   "metadata": {},
   "outputs": [
    {
     "name": "stdout",
     "output_type": "stream",
     "text": [
      "0 1 2 3 4 5 6 7 "
     ]
    }
   ],
   "source": [
    "i=0\n",
    "while i<8:\n",
    "    print(a1[i],end=\" \")\n",
    "    i=i+1"
   ]
  },
  {
   "cell_type": "code",
   "execution_count": 91,
   "id": "11ae9c4b",
   "metadata": {},
   "outputs": [
    {
     "name": "stdout",
     "output_type": "stream",
     "text": [
      "0 1 2 3 4 5 6 7 8 9 10 "
     ]
    }
   ],
   "source": [
    "for gaurav in a1:\n",
    "    print(gaurav,end=\" \")"
   ]
  },
  {
   "cell_type": "code",
   "execution_count": 92,
   "id": "5686c4d3",
   "metadata": {},
   "outputs": [
    {
     "name": "stdout",
     "output_type": "stream",
     "text": [
      "('first', 1, 'to', 10, 'digits')\n"
     ]
    }
   ],
   "source": [
    "tup=(\"first\",1,\"to\",10,\"digits\")\n",
    "print(tup)"
   ]
  },
  {
   "cell_type": "code",
   "execution_count": 93,
   "id": "7eae27f9",
   "metadata": {},
   "outputs": [
    {
     "name": "stdout",
     "output_type": "stream",
     "text": [
      "first 1 to 10 digits "
     ]
    }
   ],
   "source": [
    "i=0\n",
    "while i<5:\n",
    "    print(tup[i],end=\" \")\n",
    "    i=i+1"
   ]
  },
  {
   "cell_type": "code",
   "execution_count": 94,
   "id": "d19487d6",
   "metadata": {},
   "outputs": [
    {
     "name": "stdout",
     "output_type": "stream",
     "text": [
      "{1, 2, 3, 4, 5, 6, 7}\n"
     ]
    }
   ],
   "source": [
    "st=set([1,2,2,3,4,5,5,6,7])\n",
    "print(st)"
   ]
  },
  {
   "cell_type": "code",
   "execution_count": 95,
   "id": "3c43bba0",
   "metadata": {},
   "outputs": [
    {
     "ename": "TypeError",
     "evalue": "'set' object is not subscriptable",
     "output_type": "error",
     "traceback": [
      "\u001b[0;31m---------------------------------------------------------------------------\u001b[0m",
      "\u001b[0;31mTypeError\u001b[0m                                 Traceback (most recent call last)",
      "\u001b[1;32m/home/prajesh/Documents/org/deepthought/workshop/data-science/week1/main.ipynb Cell 103\u001b[0m line \u001b[0;36m1\n\u001b[0;32m----> <a href='vscode-notebook-cell:/home/prajesh/Documents/org/deepthought/workshop/data-science/week1/main.ipynb#Y204sZmlsZQ%3D%3D?line=0'>1</a>\u001b[0m st[\u001b[39m0\u001b[39;49m]\n",
      "\u001b[0;31mTypeError\u001b[0m: 'set' object is not subscriptable"
     ]
    }
   ],
   "source": [
    "st[0]"
   ]
  },
  {
   "cell_type": "code",
   "execution_count": 96,
   "id": "9ec6ac42",
   "metadata": {},
   "outputs": [
    {
     "name": "stdout",
     "output_type": "stream",
     "text": [
      "{'Bikes': ['RX100', 'Spendor', 'Apache'], 'UI': 'anjika', 'Aircraft': ['F22', 'Sukhoi', 'LCA Tejas']}\n"
     ]
    }
   ],
   "source": [
    "print(dt)"
   ]
  },
  {
   "cell_type": "code",
   "execution_count": 97,
   "id": "0dec5c4f",
   "metadata": {},
   "outputs": [
    {
     "name": "stdout",
     "output_type": "stream",
     "text": [
      "('Bikes', ['RX100', 'Spendor', 'Apache'])\n",
      "('UI', 'anjika')\n",
      "('Aircraft', ['F22', 'Sukhoi', 'LCA Tejas'])\n"
     ]
    }
   ],
   "source": [
    "for i in dt.items():\n",
    "    print(i)"
   ]
  },
  {
   "cell_type": "code",
   "execution_count": 98,
   "id": "d7796b7a",
   "metadata": {},
   "outputs": [
    {
     "name": "stdout",
     "output_type": "stream",
     "text": [
      "Bikes\n",
      "['RX100', 'Spendor', 'Apache']\n",
      "UI\n",
      "anjika\n",
      "Aircraft\n",
      "['F22', 'Sukhoi', 'LCA Tejas']\n"
     ]
    }
   ],
   "source": [
    "for i,j in zip(dt.keys(),dt.values()):\n",
    "    print(i)\n",
    "    print(j)\n",
    "               "
   ]
  },
  {
   "cell_type": "code",
   "execution_count": 99,
   "id": "dc5bfe56",
   "metadata": {},
   "outputs": [],
   "source": [
    "## Function\n",
    "def adding(a,b):\n",
    "    return a+b"
   ]
  },
  {
   "cell_type": "code",
   "execution_count": 100,
   "id": "b2784d35",
   "metadata": {},
   "outputs": [
    {
     "data": {
      "text/plain": [
       "7"
      ]
     },
     "execution_count": 100,
     "metadata": {},
     "output_type": "execute_result"
    }
   ],
   "source": [
    "adding(3,4)"
   ]
  },
  {
   "cell_type": "code",
   "execution_count": 101,
   "id": "40baae22",
   "metadata": {},
   "outputs": [],
   "source": [
    "def mix(car,price,gstcess):\n",
    "    lst=[\"fortuner\",\"XUV700\",\"Kodiaq\",\"i20\"]\n",
    "    for i in lst:\n",
    "        if car in i.lower():\n",
    "            print(f\"The value of the {car} is\",(price+(price*gstcess/100)))\n",
    "        else:\n",
    "            pass\n",
    "            \n",
    "        "
   ]
  },
  {
   "cell_type": "code",
   "execution_count": 102,
   "id": "a74601f1",
   "metadata": {},
   "outputs": [
    {
     "name": "stdout",
     "output_type": "stream",
     "text": [
      "The value of the xuv is 18.88\n"
     ]
    }
   ],
   "source": [
    "mix(\"xuv\",16,18)"
   ]
  },
  {
   "cell_type": "code",
   "execution_count": 103,
   "id": "3ff8dcd1",
   "metadata": {},
   "outputs": [
    {
     "name": "stdout",
     "output_type": "stream",
     "text": [
      "The value of the i20 is 12.8\n"
     ]
    }
   ],
   "source": [
    "mix(\"i20\",10,28)"
   ]
  },
  {
   "cell_type": "code",
   "execution_count": 104,
   "id": "0ed75c98",
   "metadata": {},
   "outputs": [
    {
     "name": "stdout",
     "output_type": "stream",
     "text": [
      "xuv\n"
     ]
    }
   ],
   "source": [
    "lst=[\"fortuner\",\"XUV700\",\"Kodiaq\",\"i20\"]\n",
    "car='xuv'\n",
    "for i in lst:\n",
    "    if car in i.lower():\n",
    "        print(car)\n",
    "    else:\n",
    "        pass"
   ]
  }
 ],
 "metadata": {
  "kernelspec": {
   "display_name": "Python 3 (ipykernel)",
   "language": "python",
   "name": "python3"
  },
  "language_info": {
   "codemirror_mode": {
    "name": "ipython",
    "version": 3
   },
   "file_extension": ".py",
   "mimetype": "text/x-python",
   "name": "python",
   "nbconvert_exporter": "python",
   "pygments_lexer": "ipython3",
   "version": "3.10.12"
  }
 },
 "nbformat": 4,
 "nbformat_minor": 5
}
